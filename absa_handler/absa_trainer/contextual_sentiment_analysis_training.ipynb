{
 "cells": [
  {
   "cell_type": "code",
   "execution_count": 21,
   "metadata": {
    "colab": {
     "base_uri": "https://localhost:8080/"
    },
    "id": "aKFW319SjDBk",
    "outputId": "c2f864b0-651c-427d-aa9f-db2d2cee8f5b"
   },
   "outputs": [],
   "source": [
    "# These lines are for google colab, comment or delete if run locally\n",
    "\n",
    "# Run these lines and then restart session for them to take effect.\n",
    "#!pip install datasets\n",
    "#!pip install accelerate -U\n",
    "#!pip install transformers[torch]\n",
    "\n",
    "#from google.colab import drive\n",
    "#drive.mount('/content/drive')"
   ]
  },
  {
   "cell_type": "code",
   "execution_count": 22,
   "metadata": {
    "id": "fmNU4d6eno4I"
   },
   "outputs": [],
   "source": [
    "from transformers import BertTokenizer, BertForSequenceClassification, Trainer, TrainingArguments, RobertaTokenizer, RobertaForSequenceClassification\n",
    "from datasets import load_dataset, DatasetDict, Dataset\n",
    "import torch\n",
    "import pandas as pd\n",
    "import gc\n",
    "from sklearn.metrics import accuracy_score, precision_recall_fscore_support\n",
    "from sklearn.metrics import roc_curve, confusion_matrix, classification_report, roc_auc_score\n",
    "from sklearn.model_selection import train_test_split\n",
    "import seaborn as sns\n",
    "import numpy as np\n",
    "from torch.utils.data import DataLoader, TensorDataset\n",
    "import matplotlib.pyplot as plt"
   ]
  },
  {
   "cell_type": "code",
   "execution_count": 23,
   "metadata": {
    "id": "XVd2haJfDEfh"
   },
   "outputs": [],
   "source": [
    "train_mode = 0"
   ]
  },
  {
   "cell_type": "code",
   "execution_count": 24,
   "metadata": {
    "id": "c_sEfjaLnqL_"
   },
   "outputs": [
    {
     "name": "stderr",
     "output_type": "stream",
     "text": [
      "Some weights of RobertaForSequenceClassification were not initialized from the model checkpoint at roberta-base and are newly initialized: ['classifier.dense.bias', 'classifier.dense.weight', 'classifier.out_proj.bias', 'classifier.out_proj.weight']\n",
      "You should probably TRAIN this model on a down-stream task to be able to use it for predictions and inference.\n"
     ]
    }
   ],
   "source": [
    "#Choose either the standard\n",
    "\n",
    "'''\n",
    "# Load the tokenizer\n",
    "model_name = 'bert-base-uncased'\n",
    "tokenizer = BertTokenizer.from_pretrained(model_name)\n",
    "\n",
    "# Load the model\n",
    "model = BertForSequenceClassification.from_pretrained(model_name, num_labels=2)\n",
    "'''\n",
    "\n",
    "# Load the tokenizer\n",
    "model_name = 'roberta-base'\n",
    "tokenizer = RobertaTokenizer.from_pretrained(model_name)\n",
    "\n",
    "# Load the model\n",
    "model = RobertaForSequenceClassification.from_pretrained(model_name, num_labels=2)"
   ]
  },
  {
   "cell_type": "code",
   "execution_count": 25,
   "metadata": {
    "id": "JdzDzltInr5-"
   },
   "outputs": [],
   "source": [
    "if train_mode == 1:\n",
    "  # Load your dataset\n",
    "  # Assumes dataset is in a format suitable for Hugging Face's `datasets` library\n",
    "  df = pd.read_csv('dataset_clean_2000_shuffle.csv', delimiter=',')\n",
    "  dataset = Dataset.from_pandas(df)\n",
    "\n",
    "  # Preprocessing function to tokenize the input\n",
    "  def preprocess_function(examples):\n",
    "      return tokenizer(examples['phrase'], examples['context'], truncation=True, padding='max_length', max_length=500)\n",
    "\n",
    "  # Apply preprocessing to the dataset\n",
    "  encoded_dataset = dataset.map(preprocess_function, batched=True)\n",
    "\n",
    "  # Ensure the dataset has labels\n",
    "  encoded_dataset = encoded_dataset.rename_column('sentiment', 'labels')\n"
   ]
  },
  {
   "cell_type": "code",
   "execution_count": 26,
   "metadata": {
    "id": "ZvVK7VTuoL3t"
   },
   "outputs": [
    {
     "data": {
      "text/plain": [
       "\"\\nif train_mode == 1:\\n  # Split the dataset into train and test sets\\n  train_test_split = encoded_dataset.train_test_split(test_size=0.2)\\n  train_dataset = train_test_split['train']\\n  test_dataset = train_test_split['test']\\n\\n  # Set the format for PyTorch tensors\\n  train_dataset.set_format(type='torch', columns=['input_ids', 'attention_mask', 'labels'])\\n  test_dataset.set_format(type='torch', columns=['input_ids', 'attention_mask', 'labels'])\\n  \""
      ]
     },
     "execution_count": 26,
     "metadata": {},
     "output_type": "execute_result"
    }
   ],
   "source": [
    "'''\n",
    "if train_mode == 1:\n",
    "  # Split the dataset into train and test sets\n",
    "  train_test_split = encoded_dataset.train_test_split(test_size=0.2)\n",
    "  train_dataset = train_test_split['train']\n",
    "  test_dataset = train_test_split['test']\n",
    "\n",
    "  # Set the format for PyTorch tensors\n",
    "  train_dataset.set_format(type='torch', columns=['input_ids', 'attention_mask', 'labels'])\n",
    "  test_dataset.set_format(type='torch', columns=['input_ids', 'attention_mask', 'labels'])\n",
    "  '''"
   ]
  },
  {
   "cell_type": "code",
   "execution_count": 27,
   "metadata": {
    "id": "bJYrEH97O5d_"
   },
   "outputs": [],
   "source": [
    "if train_mode == 1:\n",
    "  # Split the dataset into train and test sets\n",
    "\n",
    "  #train_test_split = encoded_dataset.train_test_split(test_size=0.2)\n",
    "  #train_dataset = train_test_split['train']\n",
    "  #test_dataset = train_test_split['test']\n",
    "\n",
    "  # Perform the initial split into train and temp (to be further split into val and test)\n",
    "  initial_split = encoded_dataset.train_test_split(test_size=0.2, seed=42)\n",
    "\n",
    "  # Extract train and temporary datasets\n",
    "  train_dataset = initial_split['train']\n",
    "  temp_dataset = initial_split['test']\n",
    "\n",
    "  # Perform the second split on the temporary dataset into validation and test\n",
    "  final_split = temp_dataset.train_test_split(test_size=0.5, seed=42)\n",
    "\n",
    "  # Extract validation and test datasets\n",
    "  val_dataset = final_split['train']\n",
    "  test_dataset = final_split['test']\n",
    "\n",
    "  #train_dataset = train_dataset.train_test_split(test_size=0.2, seed=42)['test']\n",
    "\n",
    "  #train_dataset, df_temp = train_test_split(encoded_dataset, test_size=0.2, random_state=42)\n",
    "\n",
    "  # Split the temporary data into validation (10%) and test (10%) sets\n",
    "  #val_dataset, test_dataset = train_test_split(df_temp, test_size=0.5, random_state=42)\n",
    "\n",
    "\n",
    "  # Set the format for PyTorch tensors\n",
    "  train_dataset.set_format(type='torch', columns=['input_ids', 'attention_mask', 'labels'])\n",
    "  test_dataset.set_format(type='torch', columns=['input_ids', 'attention_mask', 'labels'])\n",
    "  val_dataset.set_format(type='torch', columns=['input_ids', 'attention_mask', 'labels'])"
   ]
  },
  {
   "cell_type": "code",
   "execution_count": 28,
   "metadata": {},
   "outputs": [
    {
     "name": "stdout",
     "output_type": "stream",
     "text": [
      "\n"
     ]
    }
   ],
   "source": [
    "print()"
   ]
  },
  {
   "cell_type": "code",
   "execution_count": 29,
   "metadata": {
    "id": "lVWfTPEBvNt3"
   },
   "outputs": [],
   "source": [
    "if train_mode == 1:\n",
    "    print(train_dataset)\n",
    "    #print(train_dataset['context'])\n",
    "    gc.collect()"
   ]
  },
  {
   "cell_type": "code",
   "execution_count": 30,
   "metadata": {
    "id": "0AHbTF-0ghWO"
   },
   "outputs": [],
   "source": [
    "# Define a function to compute metrics\n",
    "def compute_metrics(p):\n",
    "    preds = np.argmax(p.predictions, axis=1)\n",
    "    labels = p.label_ids\n",
    "    precision, recall, f1, _ = precision_recall_fscore_support(labels, preds, average='binary')\n",
    "    acc = accuracy_score(labels, preds)\n",
    "    return {\n",
    "        'accuracy': acc\n",
    "    }"
   ]
  },
  {
   "cell_type": "code",
   "execution_count": 31,
   "metadata": {
    "id": "c37hWsV_ntCG"
   },
   "outputs": [],
   "source": [
    "if train_mode == 1:\n",
    "  # Define the training arguments\n",
    "  training_args = TrainingArguments(\n",
    "      output_dir='./results',  # output directory\n",
    "      num_train_epochs=3,      # number of training epochs\n",
    "      per_device_train_batch_size=8,  # batch size for training\n",
    "      per_device_eval_batch_size=8,   # batch size for evaluation\n",
    "      warmup_steps=500,        # number of warmup steps for learning rate scheduler\n",
    "      weight_decay=0.01,       # strength of weight decay\n",
    "      logging_dir='./logs',    # directory for storing logs\n",
    "      logging_steps=10,\n",
    "      eval_strategy=\"epoch\",\n",
    "      load_best_model_at_end=True,\n",
    "      save_strategy=\"epoch\",\n",
    "  )\n",
    "\n",
    "  # Define the Trainer\n",
    "  trainer = Trainer(\n",
    "      model=model,\n",
    "      args=training_args,\n",
    "      train_dataset=train_dataset,\n",
    "      eval_dataset=val_dataset,\n",
    "      compute_metrics=compute_metrics\n",
    "  )\n",
    "\n",
    "  # Train the model\n",
    "  trainer.train()"
   ]
  },
  {
   "cell_type": "code",
   "execution_count": 38,
   "metadata": {
    "id": "2gd_q7n6nuqG"
   },
   "outputs": [],
   "source": [
    "# Save the model\n",
    "model_path = 'sentiment_model_new_test'  # path to the saved model\n",
    "\n",
    "if train_mode == 1:\n",
    "  model.save_pretrained(model_path)\n",
    "  tokenizer.save_pretrained(model_path)"
   ]
  },
  {
   "cell_type": "code",
   "execution_count": 39,
   "metadata": {
    "id": "2DU4J_HQyCVs"
   },
   "outputs": [],
   "source": [
    "# Load the tokenizer and model\n",
    "\n",
    "tokenizer = RobertaTokenizer.from_pretrained(model_path)\n",
    "model_eval = RobertaForSequenceClassification.from_pretrained(model_path,num_labels=2 )\n",
    "\n",
    "# Function to make predictions\n",
    "def predict_sentiment(phrase, context):\n",
    "    inputs = tokenizer(phrase, context, return_tensors='pt', truncation=True, padding='max_length', max_length=128)\n",
    "    with torch.no_grad():\n",
    "        outputs = model_eval(**inputs)\n",
    "    logits = outputs.logits\n",
    "    predicted_class_id = torch.argmax(logits, dim=1).item()\n",
    "    print(predicted_class_id)\n",
    "    return \"positive\" if predicted_class_id == 1 else \"negative\""
   ]
  },
  {
   "cell_type": "code",
   "execution_count": 40,
   "metadata": {
    "id": "JaULuhVgV34u"
   },
   "outputs": [
    {
     "name": "stdout",
     "output_type": "stream",
     "text": [
      "1\n",
      "Phrase: 'very good'\n",
      "Context: 'The pillows are very good'\n",
      "Prediction: positive\n",
      "\n",
      "0\n",
      "Phrase: 'very stiff'\n",
      "Context: 'The pillows were very stiff, they are uncomfortable'\n",
      "Prediction: negative\n",
      "\n",
      "0\n",
      "Phrase: 'cheap'\n",
      "Context: 'The pillows were very stiff, and they were cheap'\n",
      "Prediction: negative\n",
      "\n",
      "0\n",
      "Phrase: 'uncomfortable'\n",
      "Context: 'The pillows were very stiff, they are uncomfortable'\n",
      "Prediction: negative\n",
      "\n",
      "1\n",
      "Phrase: 'clean'\n",
      "Context: 'The pillows were very stiff, but they were clean'\n",
      "Prediction: positive\n",
      "\n",
      "0\n",
      "Phrase: 'very stiff'\n",
      "Context: 'The pillows were very stiff, but they were clean'\n",
      "Prediction: negative\n",
      "\n",
      "1\n",
      "Phrase: 'very soft'\n",
      "Context: 'The pillows were very soft, and they were cheap'\n",
      "Prediction: positive\n",
      "\n",
      "0\n",
      "Phrase: 'cheap'\n",
      "Context: 'The pillows were very soft, and they were cheap'\n",
      "Prediction: negative\n",
      "\n",
      "1\n",
      "Phrase: 'great value'\n",
      "Context: 'The product is great value'\n",
      "Prediction: positive\n",
      "\n"
     ]
    },
    {
     "name": "stderr",
     "output_type": "stream",
     "text": [
      "Be aware, overflowing tokens are not returned for the setting you have chosen, i.e. sequence pairs with the 'longest_first' truncation strategy. So the returned list will always be empty even if some tokens have been removed.\n"
     ]
    },
    {
     "name": "stdout",
     "output_type": "stream",
     "text": [
      "1\n",
      "Phrase: 'is really nice'\n",
      "Context: 'Nice shampoo for the money. I get Keratin treatments at the salon at least 3-4 times a year (would do it more often if I could afford it). I am always in the market to use products that can help extend my salon visits. This Keratin shampoo is really nice. It is sulfate free (which is the first thing I look for ) and makes my hair feel silky smooth and soft. I highly recommend for anyone who wants to improve the texture and appearance of your hair. I really like the fragrance, too.'\n",
      "Prediction: positive\n",
      "\n",
      "1\n",
      "Phrase: 'really like'\n",
      "Context: 'Nice shampoo for the money. I get Keratin treatments at the salon at least 3-4 times a year (would do it more often if I could afford it). I am always in the market to use products that can help extend my salon visits. This Keratin shampoo is really nice. It is sulfate free (which is the first thing I look for ) and makes my hair feel silky smooth and soft. I highly recommend for anyone who wants to improve the texture and appearance of your hair. I really like the fragrance, too.'\n",
      "Prediction: positive\n",
      "\n"
     ]
    },
    {
     "name": "stderr",
     "output_type": "stream",
     "text": [
      "Be aware, overflowing tokens are not returned for the setting you have chosen, i.e. sequence pairs with the 'longest_first' truncation strategy. So the returned list will always be empty even if some tokens have been removed.\n",
      "Be aware, overflowing tokens are not returned for the setting you have chosen, i.e. sequence pairs with the 'longest_first' truncation strategy. So the returned list will always be empty even if some tokens have been removed.\n"
     ]
    },
    {
     "name": "stdout",
     "output_type": "stream",
     "text": [
      "0\n",
      "Phrase: ' faux hair is very shiny'\n",
      "Context: 'halo hair extensions. This halo hair extension is simply put, garbage.  Now, you get what you pay for.  And this is a very cheap version.  The faux hair is very shiny and looks literally like bad barbie hair.  It looks WAY better in the photos than in real life.  The color is horrific, in my opinion of course.  The streaks are like paint strips.  And all of that would be one thing - but the worst is that the hair completely fell out!  I had hand fulls of hair strands just trying to put the halo on!  And you might think - well, maybe a little loss is to be expected?  Except this was handfuls and handfuls.  I literally dropped the whole thing right into the trash.  I would say this one is a pass for hair loss alone.  Having said all of this, I never hesitate to update my reviews should new info seem useful. All of my reviews reflect my honest, personal experience with the reviewed item - your experience may be different. I am not influenced by any outside source. I receive/accept NO free products or discounts that are not available to all shoppers- ever. For some reason our shopper ranks are no longer visible - so, to give you a little more info about me, I am a top 50 reviewer (#30 the highest rank achieved). Those numbers used to fluctuate over time - up and down but I noticed that they stopped updating regularly - perhaps to phase them out. It's a shame because it did help you see who has been around the longest and who is a trustworthy reviewer.  I've been doing reviews for over 25 years with Amazon - over 6,000 reviews posted, those reviews have been viewed well over 50,000 times, including well over 25,000 likes. Bottom line, I pay for all my stuff, just like you do.'\n",
      "Prediction: negative\n",
      "\n",
      "0\n",
      "Phrase: 'hair is very shiny'\n",
      "Context: 'halo hair extensions. This halo hair extension is simply put, garbage.  Now, you get what you pay for.  And this is a very cheap version.  The faux hair is very shiny and looks literally like bad barbie hair.  It looks WAY better in the photos than in real life.  The color is horrific, in my opinion of course.  The streaks are like paint strips.  And all of that would be one thing - but the worst is that the hair completely fell out!  I had hand fulls of hair strands just trying to put the halo on!  And you might think - well, maybe a little loss is to be expected?  Except this was handfuls and handfuls.  I literally dropped the whole thing right into the trash.  I would say this one is a pass for hair loss alone.  Having said all of this, I never hesitate to update my reviews should new info seem useful. All of my reviews reflect my honest, personal experience with the reviewed item - your experience may be different. I am not influenced by any outside source. I receive/accept NO free products or discounts that are not available to all shoppers- ever. For some reason our shopper ranks are no longer visible - so, to give you a little more info about me, I am a top 50 reviewer (#30 the highest rank achieved). Those numbers used to fluctuate over time - up and down but I noticed that they stopped updating regularly - perhaps to phase them out. It's a shame because it did help you see who has been around the longest and who is a trustworthy reviewer.  I've been doing reviews for over 25 years with Amazon - over 6,000 reviews posted, those reviews have been viewed well over 50,000 times, including well over 25,000 likes. Bottom line, I pay for all my stuff, just like you do.'\n",
      "Prediction: negative\n",
      "\n",
      "0\n",
      "Phrase: 'streaks are like paint strips'\n",
      "Context: 'halo hair extensions. This halo hair extension is simply put, garbage.  Now, you get what you pay for.  And this is a very cheap version.  The faux hair is very shiny and looks literally like bad barbie hair.  It looks WAY better in the photos than in real life.  The color is horrific, in my opinion of course.  The streaks are like paint strips.  And all of that would be one thing - but the worst is that the hair completely fell out!  I had hand fulls of hair strands just trying to put the halo on!  And you might think - well, maybe a little loss is to be expected?  Except this was handfuls and handfuls.  I literally dropped the whole thing right into the trash.  I would say this one is a pass for hair loss alone.  Having said all of this, I never hesitate to update my reviews should new info seem useful. All of my reviews reflect my honest, personal experience with the reviewed item - your experience may be different. I am not influenced by any outside source. I receive/accept NO free products or discounts that are not available to all shoppers- ever. For some reason our shopper ranks are no longer visible - so, to give you a little more info about me, I am a top 50 reviewer (#30 the highest rank achieved). Those numbers used to fluctuate over time - up and down but I noticed that they stopped updating regularly - perhaps to phase them out. It's a shame because it did help you see who has been around the longest and who is a trustworthy reviewer.  I've been doing reviews for over 25 years with Amazon - over 6,000 reviews posted, those reviews have been viewed well over 50,000 times, including well over 25,000 likes. Bottom line, I pay for all my stuff, just like you do.'\n",
      "Prediction: negative\n",
      "\n"
     ]
    }
   ],
   "source": [
    "# Another example usage\n",
    "phrase = \"very good\"\n",
    "context = \"The pillows are very good\"\n",
    "prediction = predict_sentiment(phrase, context)\n",
    "print(f\"Phrase: '{phrase}'\\nContext: '{context}'\\nPrediction: {prediction}\")\n",
    "print(\"\")\n",
    "\n",
    "\n",
    "# Another example usage\n",
    "phrase = \"very stiff\"\n",
    "context = \"The pillows were very stiff, they are uncomfortable\"\n",
    "prediction = predict_sentiment(phrase, context)\n",
    "print(f\"Phrase: '{phrase}'\\nContext: '{context}'\\nPrediction: {prediction}\")\n",
    "print(\"\")\n",
    "\n",
    "# Another example usage\n",
    "phrase = \"cheap\"\n",
    "context = \"The pillows were very stiff, and they were cheap\"\n",
    "prediction = predict_sentiment(phrase, context)\n",
    "print(f\"Phrase: '{phrase}'\\nContext: '{context}'\\nPrediction: {prediction}\")\n",
    "print(\"\")\n",
    "\n",
    "# Another example usage\n",
    "phrase = \"uncomfortable\"\n",
    "context = \"The pillows were very stiff, they are uncomfortable\"\n",
    "prediction = predict_sentiment(phrase, context)\n",
    "print(f\"Phrase: '{phrase}'\\nContext: '{context}'\\nPrediction: {prediction}\")\n",
    "print(\"\")\n",
    "\n",
    "# Another example usage\n",
    "phrase = \"clean\"\n",
    "context = \"The pillows were very stiff, but they were clean\"\n",
    "prediction = predict_sentiment(phrase, context)\n",
    "print(f\"Phrase: '{phrase}'\\nContext: '{context}'\\nPrediction: {prediction}\")\n",
    "print(\"\")\n",
    "\n",
    "# Another example usage\n",
    "phrase = \"very stiff\"\n",
    "context = \"The pillows were very stiff, but they were clean\"\n",
    "prediction = predict_sentiment(phrase, context)\n",
    "print(f\"Phrase: '{phrase}'\\nContext: '{context}'\\nPrediction: {prediction}\")\n",
    "print(\"\")\n",
    "\n",
    "# Another example usage\n",
    "phrase = \"very soft\"\n",
    "context = \"The pillows were very soft, and they were cheap\"\n",
    "prediction = predict_sentiment(phrase, context)\n",
    "print(f\"Phrase: '{phrase}'\\nContext: '{context}'\\nPrediction: {prediction}\")\n",
    "print(\"\")\n",
    "\n",
    "# Another example usage\n",
    "phrase = \"cheap\"\n",
    "context = \"The pillows were very soft, and they were cheap\"\n",
    "prediction = predict_sentiment(phrase, context)\n",
    "print(f\"Phrase: '{phrase}'\\nContext: '{context}'\\nPrediction: {prediction}\")\n",
    "print(\"\")\n",
    "\n",
    "# Another example usage\n",
    "phrase = \"great value\"\n",
    "context = \"The product is great value\"\n",
    "prediction = predict_sentiment(phrase, context)\n",
    "print(f\"Phrase: '{phrase}'\\nContext: '{context}'\\nPrediction: {prediction}\")\n",
    "print(\"\")\n",
    "\n",
    "\n",
    "phrase = \"is really nice\"\n",
    "context = \"Nice shampoo for the money. I get Keratin treatments at the salon at least 3-4 times a year (would do it more often if I could afford it). I am always in the market to use products that can help extend my salon visits. This Keratin shampoo is really nice. It is sulfate free (which is the first thing I look for ) and makes my hair feel silky smooth and soft. I highly recommend for anyone who wants to improve the texture and appearance of your hair. I really like the fragrance, too.\"\n",
    "prediction = predict_sentiment(phrase, context)\n",
    "print(f\"Phrase: '{phrase}'\\nContext: '{context}'\\nPrediction: {prediction}\")\n",
    "print(\"\")\n",
    "\n",
    "phrase = \"really like\"\n",
    "context = \"Nice shampoo for the money. I get Keratin treatments at the salon at least 3-4 times a year (would do it more often if I could afford it). I am always in the market to use products that can help extend my salon visits. This Keratin shampoo is really nice. It is sulfate free (which is the first thing I look for ) and makes my hair feel silky smooth and soft. I highly recommend for anyone who wants to improve the texture and appearance of your hair. I really like the fragrance, too.\"\n",
    "prediction = predict_sentiment(phrase, context)\n",
    "print(f\"Phrase: '{phrase}'\\nContext: '{context}'\\nPrediction: {prediction}\")\n",
    "print(\"\")\n",
    "\n",
    "phrase = \" faux hair is very shiny\"\n",
    "context = \"halo hair extensions. This halo hair extension is simply put, garbage.  Now, you get what you pay for.  And this is a very cheap version.  The faux hair is very shiny and looks literally like bad barbie hair.  It looks WAY better in the photos than in real life.  The color is horrific, in my opinion of course.  The streaks are like paint strips.  And all of that would be one thing - but the worst is that the hair completely fell out!  I had hand fulls of hair strands just trying to put the halo on!  And you might think - well, maybe a little loss is to be expected?  Except this was handfuls and handfuls.  I literally dropped the whole thing right into the trash.  I would say this one is a pass for hair loss alone.  Having said all of this, I never hesitate to update my reviews should new info seem useful. All of my reviews reflect my honest, personal experience with the reviewed item - your experience may be different. I am not influenced by any outside source. I receive/accept NO free products or discounts that are not available to all shoppers- ever. For some reason our shopper ranks are no longer visible - so, to give you a little more info about me, I am a top 50 reviewer (#30 the highest rank achieved). Those numbers used to fluctuate over time - up and down but I noticed that they stopped updating regularly - perhaps to phase them out. It's a shame because it did help you see who has been around the longest and who is a trustworthy reviewer.\\u00a0 I've been doing reviews for over 25 years with Amazon - over 6,000 reviews posted, those reviews have been viewed well over 50,000 times, including well over 25,000 likes. Bottom line, I pay for all my stuff, just like you do.\"\n",
    "prediction = predict_sentiment(phrase, context)\n",
    "print(f\"Phrase: '{phrase}'\\nContext: '{context}'\\nPrediction: {prediction}\")\n",
    "print(\"\")\n",
    "\n",
    "phrase = \"hair is very shiny\"\n",
    "context = \"halo hair extensions. This halo hair extension is simply put, garbage.  Now, you get what you pay for.  And this is a very cheap version.  The faux hair is very shiny and looks literally like bad barbie hair.  It looks WAY better in the photos than in real life.  The color is horrific, in my opinion of course.  The streaks are like paint strips.  And all of that would be one thing - but the worst is that the hair completely fell out!  I had hand fulls of hair strands just trying to put the halo on!  And you might think - well, maybe a little loss is to be expected?  Except this was handfuls and handfuls.  I literally dropped the whole thing right into the trash.  I would say this one is a pass for hair loss alone.  Having said all of this, I never hesitate to update my reviews should new info seem useful. All of my reviews reflect my honest, personal experience with the reviewed item - your experience may be different. I am not influenced by any outside source. I receive/accept NO free products or discounts that are not available to all shoppers- ever. For some reason our shopper ranks are no longer visible - so, to give you a little more info about me, I am a top 50 reviewer (#30 the highest rank achieved). Those numbers used to fluctuate over time - up and down but I noticed that they stopped updating regularly - perhaps to phase them out. It's a shame because it did help you see who has been around the longest and who is a trustworthy reviewer.\\u00a0 I've been doing reviews for over 25 years with Amazon - over 6,000 reviews posted, those reviews have been viewed well over 50,000 times, including well over 25,000 likes. Bottom line, I pay for all my stuff, just like you do.\"\n",
    "prediction = predict_sentiment(phrase, context)\n",
    "print(f\"Phrase: '{phrase}'\\nContext: '{context}'\\nPrediction: {prediction}\")\n",
    "print(\"\")\n",
    "\n",
    "phrase = \"streaks are like paint strips\"\n",
    "context = \"halo hair extensions. This halo hair extension is simply put, garbage.  Now, you get what you pay for.  And this is a very cheap version.  The faux hair is very shiny and looks literally like bad barbie hair.  It looks WAY better in the photos than in real life.  The color is horrific, in my opinion of course.  The streaks are like paint strips.  And all of that would be one thing - but the worst is that the hair completely fell out!  I had hand fulls of hair strands just trying to put the halo on!  And you might think - well, maybe a little loss is to be expected?  Except this was handfuls and handfuls.  I literally dropped the whole thing right into the trash.  I would say this one is a pass for hair loss alone.  Having said all of this, I never hesitate to update my reviews should new info seem useful. All of my reviews reflect my honest, personal experience with the reviewed item - your experience may be different. I am not influenced by any outside source. I receive/accept NO free products or discounts that are not available to all shoppers- ever. For some reason our shopper ranks are no longer visible - so, to give you a little more info about me, I am a top 50 reviewer (#30 the highest rank achieved). Those numbers used to fluctuate over time - up and down but I noticed that they stopped updating regularly - perhaps to phase them out. It's a shame because it did help you see who has been around the longest and who is a trustworthy reviewer.\\u00a0 I've been doing reviews for over 25 years with Amazon - over 6,000 reviews posted, those reviews have been viewed well over 50,000 times, including well over 25,000 likes. Bottom line, I pay for all my stuff, just like you do.\"\n",
    "prediction = predict_sentiment(phrase, context)\n",
    "print(f\"Phrase: '{phrase}'\\nContext: '{context}'\\nPrediction: {prediction}\")\n",
    "print(\"\")"
   ]
  },
  {
   "cell_type": "code",
   "execution_count": 41,
   "metadata": {
    "id": "wqulu5r7B1uf"
   },
   "outputs": [
    {
     "name": "stderr",
     "output_type": "stream",
     "text": [
      "Be aware, overflowing tokens are not returned for the setting you have chosen, i.e. sequence pairs with the 'longest_first' truncation strategy. So the returned list will always be empty even if some tokens have been removed.\n",
      "Be aware, overflowing tokens are not returned for the setting you have chosen, i.e. sequence pairs with the 'longest_first' truncation strategy. So the returned list will always be empty even if some tokens have been removed.\n",
      "Be aware, overflowing tokens are not returned for the setting you have chosen, i.e. sequence pairs with the 'longest_first' truncation strategy. So the returned list will always be empty even if some tokens have been removed.\n",
      "Be aware, overflowing tokens are not returned for the setting you have chosen, i.e. sequence pairs with the 'longest_first' truncation strategy. So the returned list will always be empty even if some tokens have been removed.\n",
      "Be aware, overflowing tokens are not returned for the setting you have chosen, i.e. sequence pairs with the 'longest_first' truncation strategy. So the returned list will always be empty even if some tokens have been removed.\n",
      "Be aware, overflowing tokens are not returned for the setting you have chosen, i.e. sequence pairs with the 'longest_first' truncation strategy. So the returned list will always be empty even if some tokens have been removed.\n",
      "Be aware, overflowing tokens are not returned for the setting you have chosen, i.e. sequence pairs with the 'longest_first' truncation strategy. So the returned list will always be empty even if some tokens have been removed.\n",
      "Be aware, overflowing tokens are not returned for the setting you have chosen, i.e. sequence pairs with the 'longest_first' truncation strategy. So the returned list will always be empty even if some tokens have been removed.\n",
      "Be aware, overflowing tokens are not returned for the setting you have chosen, i.e. sequence pairs with the 'longest_first' truncation strategy. So the returned list will always be empty even if some tokens have been removed.\n",
      "Be aware, overflowing tokens are not returned for the setting you have chosen, i.e. sequence pairs with the 'longest_first' truncation strategy. So the returned list will always be empty even if some tokens have been removed.\n",
      "Be aware, overflowing tokens are not returned for the setting you have chosen, i.e. sequence pairs with the 'longest_first' truncation strategy. So the returned list will always be empty even if some tokens have been removed.\n",
      "Be aware, overflowing tokens are not returned for the setting you have chosen, i.e. sequence pairs with the 'longest_first' truncation strategy. So the returned list will always be empty even if some tokens have been removed.\n",
      "Be aware, overflowing tokens are not returned for the setting you have chosen, i.e. sequence pairs with the 'longest_first' truncation strategy. So the returned list will always be empty even if some tokens have been removed.\n",
      "Be aware, overflowing tokens are not returned for the setting you have chosen, i.e. sequence pairs with the 'longest_first' truncation strategy. So the returned list will always be empty even if some tokens have been removed.\n",
      "Be aware, overflowing tokens are not returned for the setting you have chosen, i.e. sequence pairs with the 'longest_first' truncation strategy. So the returned list will always be empty even if some tokens have been removed.\n",
      "Be aware, overflowing tokens are not returned for the setting you have chosen, i.e. sequence pairs with the 'longest_first' truncation strategy. So the returned list will always be empty even if some tokens have been removed.\n",
      "Be aware, overflowing tokens are not returned for the setting you have chosen, i.e. sequence pairs with the 'longest_first' truncation strategy. So the returned list will always be empty even if some tokens have been removed.\n",
      "Be aware, overflowing tokens are not returned for the setting you have chosen, i.e. sequence pairs with the 'longest_first' truncation strategy. So the returned list will always be empty even if some tokens have been removed.\n",
      "Be aware, overflowing tokens are not returned for the setting you have chosen, i.e. sequence pairs with the 'longest_first' truncation strategy. So the returned list will always be empty even if some tokens have been removed.\n",
      "Be aware, overflowing tokens are not returned for the setting you have chosen, i.e. sequence pairs with the 'longest_first' truncation strategy. So the returned list will always be empty even if some tokens have been removed.\n",
      "Be aware, overflowing tokens are not returned for the setting you have chosen, i.e. sequence pairs with the 'longest_first' truncation strategy. So the returned list will always be empty even if some tokens have been removed.\n",
      "Be aware, overflowing tokens are not returned for the setting you have chosen, i.e. sequence pairs with the 'longest_first' truncation strategy. So the returned list will always be empty even if some tokens have been removed.\n",
      "Be aware, overflowing tokens are not returned for the setting you have chosen, i.e. sequence pairs with the 'longest_first' truncation strategy. So the returned list will always be empty even if some tokens have been removed.\n",
      "Be aware, overflowing tokens are not returned for the setting you have chosen, i.e. sequence pairs with the 'longest_first' truncation strategy. So the returned list will always be empty even if some tokens have been removed.\n",
      "Be aware, overflowing tokens are not returned for the setting you have chosen, i.e. sequence pairs with the 'longest_first' truncation strategy. So the returned list will always be empty even if some tokens have been removed.\n",
      "Be aware, overflowing tokens are not returned for the setting you have chosen, i.e. sequence pairs with the 'longest_first' truncation strategy. So the returned list will always be empty even if some tokens have been removed.\n",
      "Be aware, overflowing tokens are not returned for the setting you have chosen, i.e. sequence pairs with the 'longest_first' truncation strategy. So the returned list will always be empty even if some tokens have been removed.\n",
      "Be aware, overflowing tokens are not returned for the setting you have chosen, i.e. sequence pairs with the 'longest_first' truncation strategy. So the returned list will always be empty even if some tokens have been removed.\n",
      "Be aware, overflowing tokens are not returned for the setting you have chosen, i.e. sequence pairs with the 'longest_first' truncation strategy. So the returned list will always be empty even if some tokens have been removed.\n",
      "Be aware, overflowing tokens are not returned for the setting you have chosen, i.e. sequence pairs with the 'longest_first' truncation strategy. So the returned list will always be empty even if some tokens have been removed.\n",
      "Be aware, overflowing tokens are not returned for the setting you have chosen, i.e. sequence pairs with the 'longest_first' truncation strategy. So the returned list will always be empty even if some tokens have been removed.\n",
      "Be aware, overflowing tokens are not returned for the setting you have chosen, i.e. sequence pairs with the 'longest_first' truncation strategy. So the returned list will always be empty even if some tokens have been removed.\n",
      "Be aware, overflowing tokens are not returned for the setting you have chosen, i.e. sequence pairs with the 'longest_first' truncation strategy. So the returned list will always be empty even if some tokens have been removed.\n",
      "Be aware, overflowing tokens are not returned for the setting you have chosen, i.e. sequence pairs with the 'longest_first' truncation strategy. So the returned list will always be empty even if some tokens have been removed.\n",
      "Be aware, overflowing tokens are not returned for the setting you have chosen, i.e. sequence pairs with the 'longest_first' truncation strategy. So the returned list will always be empty even if some tokens have been removed.\n",
      "Be aware, overflowing tokens are not returned for the setting you have chosen, i.e. sequence pairs with the 'longest_first' truncation strategy. So the returned list will always be empty even if some tokens have been removed.\n",
      "Be aware, overflowing tokens are not returned for the setting you have chosen, i.e. sequence pairs with the 'longest_first' truncation strategy. So the returned list will always be empty even if some tokens have been removed.\n"
     ]
    },
    {
     "name": "stderr",
     "output_type": "stream",
     "text": [
      "Be aware, overflowing tokens are not returned for the setting you have chosen, i.e. sequence pairs with the 'longest_first' truncation strategy. So the returned list will always be empty even if some tokens have been removed.\n",
      "Be aware, overflowing tokens are not returned for the setting you have chosen, i.e. sequence pairs with the 'longest_first' truncation strategy. So the returned list will always be empty even if some tokens have been removed.\n",
      "Be aware, overflowing tokens are not returned for the setting you have chosen, i.e. sequence pairs with the 'longest_first' truncation strategy. So the returned list will always be empty even if some tokens have been removed.\n",
      "Be aware, overflowing tokens are not returned for the setting you have chosen, i.e. sequence pairs with the 'longest_first' truncation strategy. So the returned list will always be empty even if some tokens have been removed.\n",
      "Be aware, overflowing tokens are not returned for the setting you have chosen, i.e. sequence pairs with the 'longest_first' truncation strategy. So the returned list will always be empty even if some tokens have been removed.\n",
      "Be aware, overflowing tokens are not returned for the setting you have chosen, i.e. sequence pairs with the 'longest_first' truncation strategy. So the returned list will always be empty even if some tokens have been removed.\n",
      "Be aware, overflowing tokens are not returned for the setting you have chosen, i.e. sequence pairs with the 'longest_first' truncation strategy. So the returned list will always be empty even if some tokens have been removed.\n",
      "Be aware, overflowing tokens are not returned for the setting you have chosen, i.e. sequence pairs with the 'longest_first' truncation strategy. So the returned list will always be empty even if some tokens have been removed.\n",
      "Be aware, overflowing tokens are not returned for the setting you have chosen, i.e. sequence pairs with the 'longest_first' truncation strategy. So the returned list will always be empty even if some tokens have been removed.\n",
      "Be aware, overflowing tokens are not returned for the setting you have chosen, i.e. sequence pairs with the 'longest_first' truncation strategy. So the returned list will always be empty even if some tokens have been removed.\n",
      "Be aware, overflowing tokens are not returned for the setting you have chosen, i.e. sequence pairs with the 'longest_first' truncation strategy. So the returned list will always be empty even if some tokens have been removed.\n",
      "Be aware, overflowing tokens are not returned for the setting you have chosen, i.e. sequence pairs with the 'longest_first' truncation strategy. So the returned list will always be empty even if some tokens have been removed.\n",
      "Be aware, overflowing tokens are not returned for the setting you have chosen, i.e. sequence pairs with the 'longest_first' truncation strategy. So the returned list will always be empty even if some tokens have been removed.\n",
      "Be aware, overflowing tokens are not returned for the setting you have chosen, i.e. sequence pairs with the 'longest_first' truncation strategy. So the returned list will always be empty even if some tokens have been removed.\n",
      "Be aware, overflowing tokens are not returned for the setting you have chosen, i.e. sequence pairs with the 'longest_first' truncation strategy. So the returned list will always be empty even if some tokens have been removed.\n",
      "Be aware, overflowing tokens are not returned for the setting you have chosen, i.e. sequence pairs with the 'longest_first' truncation strategy. So the returned list will always be empty even if some tokens have been removed.\n",
      "Be aware, overflowing tokens are not returned for the setting you have chosen, i.e. sequence pairs with the 'longest_first' truncation strategy. So the returned list will always be empty even if some tokens have been removed.\n",
      "Be aware, overflowing tokens are not returned for the setting you have chosen, i.e. sequence pairs with the 'longest_first' truncation strategy. So the returned list will always be empty even if some tokens have been removed.\n",
      "Be aware, overflowing tokens are not returned for the setting you have chosen, i.e. sequence pairs with the 'longest_first' truncation strategy. So the returned list will always be empty even if some tokens have been removed.\n",
      "Be aware, overflowing tokens are not returned for the setting you have chosen, i.e. sequence pairs with the 'longest_first' truncation strategy. So the returned list will always be empty even if some tokens have been removed.\n",
      "Be aware, overflowing tokens are not returned for the setting you have chosen, i.e. sequence pairs with the 'longest_first' truncation strategy. So the returned list will always be empty even if some tokens have been removed.\n",
      "Be aware, overflowing tokens are not returned for the setting you have chosen, i.e. sequence pairs with the 'longest_first' truncation strategy. So the returned list will always be empty even if some tokens have been removed.\n",
      "Be aware, overflowing tokens are not returned for the setting you have chosen, i.e. sequence pairs with the 'longest_first' truncation strategy. So the returned list will always be empty even if some tokens have been removed.\n",
      "Be aware, overflowing tokens are not returned for the setting you have chosen, i.e. sequence pairs with the 'longest_first' truncation strategy. So the returned list will always be empty even if some tokens have been removed.\n"
     ]
    },
    {
     "name": "stdout",
     "output_type": "stream",
     "text": [
      "<torch.utils.data.dataloader.DataLoader object at 0x000001D6808333D0>\n"
     ]
    }
   ],
   "source": [
    "df = pd.read_csv('dataset_balanced_test.csv', delimiter=',')\n",
    "df.rename(columns={'sentiment': 'labels'}, inplace=True)\n",
    "\n",
    "test_dataset_eval = Dataset.from_pandas(df)\n",
    "\n",
    "test_dataset_eval = preprocess_function(test_dataset_eval)\n",
    "\n",
    "#test_dataset_eval = test_dataset_eval.rename_column('sentiment', 'labels')\n",
    "\n",
    "#def preprocess_function(examples):\n",
    "#      return tokenizer(examples['phrase'], examples['context'], truncation=True, padding='max_length', max_length=500)\n",
    "# Remove rows with NaN values\n",
    "df.dropna(subset=['phrase', 'context', 'labels'], inplace=True)\n",
    "\n",
    "# Preprocess the validation dataset\n",
    "def preprocess_data_2(df, tokenizer):\n",
    "    # Ensure that 'phrase' and 'context' columns are strings\n",
    "    df['phrase'] = df['phrase'].astype(str)\n",
    "    df['context'] = df['context'].astype(str)\n",
    "\n",
    "    # Combine 'phrase' and 'context' into a single input string\n",
    "    combined_input = df['phrase'] + \" \" + df['context']\n",
    "\n",
    "    # Tokenize the combined input\n",
    "    inputs = tokenizer(\n",
    "        combined_input.tolist(),\n",
    "        max_length=128,\n",
    "        padding=True,\n",
    "        truncation=True,\n",
    "        return_tensors=\"pt\"\n",
    "    )\n",
    "    labels = torch.tensor(df['labels'].tolist())\n",
    "\n",
    "    dataset = TensorDataset(inputs['input_ids'], inputs['attention_mask'], labels)\n",
    "    return dataset\n",
    "\n",
    "\n",
    "eval_dataset = preprocess_data_2(df, tokenizer)\n",
    "eval_dataloader = DataLoader(eval_dataset, batch_size=32)\n",
    "\n",
    "print(eval_dataloader)"
   ]
  },
  {
   "cell_type": "code",
   "execution_count": 42,
   "metadata": {
    "id": "dsxdwKlKcT1Z"
   },
   "outputs": [],
   "source": [
    "# Run predictions on the validation dataset\n",
    "model_eval.eval()\n",
    "predictions, true_labels = [], []\n",
    "\n",
    "with torch.no_grad():\n",
    "    for batch in eval_dataloader:\n",
    "        inputs, masks, labels = batch\n",
    "        outputs = model_eval(input_ids=inputs, attention_mask=masks)\n",
    "        logits = outputs.logits\n",
    "        predictions.append(logits)\n",
    "        true_labels.append(labels)\n",
    "\n",
    "predictions = torch.cat(predictions, dim=0)\n",
    "true_labels = torch.cat(true_labels, dim=0)\n",
    "\n",
    "# Check for NaN values in true_labels\n",
    "if torch.isnan(true_labels).any():\n",
    "    raise ValueError(\"NaN values found in true_labels after processing.\")\n",
    "\n",
    "# Convert logits to probabilities\n",
    "probs = torch.nn.functional.softmax(predictions, dim=1)[:, 1]\n",
    "preds = torch.argmax(predictions, dim=1)"
   ]
  },
  {
   "cell_type": "code",
   "execution_count": 43,
   "metadata": {
    "id": "jffwLAFRAT5_"
   },
   "outputs": [
    {
     "name": "stdout",
     "output_type": "stream",
     "text": [
      "Classification Report:\n",
      "               precision    recall  f1-score   support\n",
      "\n",
      "           0       0.88      0.80      0.84       500\n",
      "           1       0.81      0.90      0.85       500\n",
      "\n",
      "    accuracy                           0.85      1000\n",
      "   macro avg       0.85      0.85      0.85      1000\n",
      "weighted avg       0.85      0.85      0.85      1000\n",
      "\n"
     ]
    },
    {
     "data": {
      "image/png": "[encoded data removed]",
      "text/plain": [
       "<Figure size 432x288 with 1 Axes>"
      ]
     },
     "metadata": {
      "needs_background": "light"
     },
     "output_type": "display_data"
    },
    {
     "data": {
      "image/png": "[encoded data removed]",
      "text/plain": [
       "<Figure size 576x432 with 2 Axes>"
      ]
     },
     "metadata": {
      "needs_background": "light"
     },
     "output_type": "display_data"
    }
   ],
   "source": [
    "# Calculate performance metrics\n",
    "fpr, tpr, _ = roc_curve(true_labels, probs)\n",
    "roc_auc = roc_auc_score(true_labels, probs)\n",
    "conf_matrix = confusion_matrix(true_labels, preds)\n",
    "class_report = classification_report(true_labels, preds)\n",
    "\n",
    "# Print the classification report\n",
    "print(\"Classification Report:\\n\", class_report)\n",
    "\n",
    "# Plot ROC Curve\n",
    "plt.figure()\n",
    "plt.plot(fpr, tpr, color='blue', lw=2, label='ROC curve (area = %0.2f)' % roc_auc)\n",
    "plt.plot([0, 1], [0, 1], color='gray', lw=2, linestyle='--')\n",
    "plt.xlim([0.0, 1.0])\n",
    "plt.ylim([0.0, 1.05])\n",
    "plt.xlabel('False Positive Rate')\n",
    "plt.ylabel('True Positive Rate')\n",
    "plt.title('ROC Curve')\n",
    "plt.legend(loc=\"lower right\")\n",
    "plt.show()\n",
    "\n",
    "# Visualize Confusion Matrix\n",
    "plt.figure(figsize=(8, 6))\n",
    "sns.heatmap(conf_matrix, annot=True, fmt='d', cmap='Blues', xticklabels=['Predicted Negative', 'Predicted Positive'], yticklabels=['True Negative', 'True Positive'])\n",
    "plt.xlabel('Predicted Label')\n",
    "plt.ylabel('True Label')\n",
    "plt.title('Confusion Matrix')\n",
    "plt.show()"
   ]
  },
  {
   "cell_type": "code",
   "execution_count": null,
   "metadata": {},
   "outputs": [],
   "source": []
  },
  {
   "cell_type": "code",
   "execution_count": null,
   "metadata": {},
   "outputs": [],
   "source": []
  }
 ],
 "metadata": {
  "colab": {
   "provenance": []
  },
  "kernelspec": {
   "display_name": "Python 3",
   "language": "python",
   "name": "python3"
  },
  "language_info": {
   "codemirror_mode": {
    "name": "ipython",
    "version": 3
   },
   "file_extension": ".py",
   "mimetype": "text/x-python",
   "name": "python",
   "nbconvert_exporter": "python",
   "pygments_lexer": "ipython3",
   "version": "3.8.8"
  }
 },
 "nbformat": 4,
 "nbformat_minor": 1
}
